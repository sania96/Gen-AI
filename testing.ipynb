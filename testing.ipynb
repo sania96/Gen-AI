{
 "cells": [
  {
   "cell_type": "code",
   "execution_count": 1,
   "metadata": {},
   "outputs": [
    {
     "name": "stdout",
     "output_type": "stream",
     "text": [
      "Note: you may need to restart the kernel to use updated packages.\n"
     ]
    }
   ],
   "source": [
    "%pip install --upgrade --quiet  langchain-openai tiktoken chromadb langchain"
   ]
  },
  {
   "cell_type": "code",
   "execution_count": 1,
   "metadata": {},
   "outputs": [
    {
     "data": {
      "text/plain": [
       "True"
      ]
     },
     "execution_count": 1,
     "metadata": {},
     "output_type": "execute_result"
    }
   ],
   "source": [
    "import dotenv\n",
    "\n",
    "dotenv.load_dotenv()"
   ]
  },
  {
   "cell_type": "code",
   "execution_count": 9,
   "metadata": {},
   "outputs": [
    {
     "name": "stdout",
     "output_type": "stream",
     "text": [
      "This case study highlights the successful collaboration between Sodexo and CoachHub to accelerate leadership development across the APMEA region. The challenge addressed was the need for scalable leadership development programs in diverse geographic regions. The key outcomes included improved knowledge retention, enhanced leadership skills, and increased employee engagement. Data showed that 75% of classroom-style training is forgotten if not implemented within 6 days. The call-to-action is to join the journey of growth and transformation with CoachHub. The desired tone is professional, and achievements should be presented in bullet points. #ExploreTheGreaterYou.\n"
     ]
    }
   ],
   "source": [
    "from langchain.chains.combine_documents.stuff import StuffDocumentsChain\n",
    "from langchain.chains.llm import LLMChain\n",
    "from langchain.prompts import PromptTemplate\n",
    "from langchain_openai import ChatOpenAI\n",
    "from langchain_community.document_loaders import Docx2txtLoader\n",
    "from langchain.chains.summarize import load_summarize_chain\n",
    "\n",
    "# Define prompt\n",
    "prompt_template = \"\"\"Write a detailed summary of the following:\n",
    "\"{text}\"\n",
    "CONCISE SUMMARY:\"\"\"\n",
    "prompt = PromptTemplate.from_template(prompt_template)\n",
    "\n",
    "# # Define LLM chain\n",
    "llm = ChatOpenAI(temperature=0, model_name=\"gpt-3.5-turbo-0125\")\n",
    "llm_chain = LLMChain(llm=llm, prompt=prompt)\n",
    "\n",
    "# Define StuffDocumentsChain\n",
    "stuff_chain = StuffDocumentsChain(llm_chain=llm_chain, document_variable_name=\"text\")\n",
    "loader = Docx2txtLoader(\"qa.docx\")\n",
    "docs = loader.load()\n",
    "generated_text=stuff_chain.run(docs)\n",
    "print(generated_text)"
   ]
  },
  {
   "cell_type": "code",
   "execution_count": 11,
   "metadata": {},
   "outputs": [
    {
     "data": {
      "text/plain": [
       "'Did you know...? 75% of classroom-style training is forgotten if it\\'s not implemented within 6 days after.\\n\\nHighlight the company/organization involved in the success story:\\nLearn how Sodexo successfully addressed the need for scalable leadership development programs through their partnership with CoachHub.\\n\\nList the key outcomes or benefits achieved:\\n• Implementation of scalable coaching programs powered by AI and analytics\\n• Improved knowledge retention and enhanced leadership skills\\n• Increased employee engagement across the APMEA region\\n\\nInclude any impactful data, quotes, or testimonials:\\n• \"Join thousands of coachees like Sodexo\\'s Head of FMCG Accounts, Jean Baptiste CALEMARD, on a journey of growth and transformation to explore the greater you.\" - Jean Baptiste CALEMARD, Head of FMCG Accounts, Sodexo\\n\\nEnd with a strong call-to-action and relevant hashtags:\\n• Join us on a journey of growth and transformation to explore the greater you: https://bit.ly/3LMxIHg\\n• #ExploreTheGreaterYou #LeadershipDevelopment #EmployeeEngagement'"
      ]
     },
     "execution_count": 11,
     "metadata": {},
     "output_type": "execute_result"
    }
   ],
   "source": [
    "from langchain.prompts import PromptTemplate\n",
    "from langchain_openai import ChatOpenAI\n",
    "\n",
    "# Define prompt\n",
    "prompt_template = \"\"\"you have to write a social media post of \n",
    "\"{text}\"\n",
    "Format:•\tDid you know...? [Insert relevant statistic from the questionnaire answers or related industry data]\n",
    "Highlight the company/organization involved in the success story:\n",
    "•\tLearn how [Company Name] successfully addressed [the challenge faced] through their partnership with [Partner Organization].\n",
    "List the key outcomes or benefits achieved:\n",
    "•\t[Outcome/Benefit 1]\n",
    "•\t[Outcome/Benefit 2]\n",
    "•\t[Outcome/Benefit 3]\n",
    "•\t[Add more benefits as needed, based on questionnaire answers]\n",
    "Include any impactful data, quotes, or testimonials:\n",
    "•\t\"[Insert impactful quote or testimonial]\" - [Name], [Title], [Company Name]\n",
    "End with a strong call-to-action and relevant hashtags:\n",
    "•\t[Insert Call-to-action related to the specific case study]\n",
    "•\t#[Relevant Hashtag 1] #[Relevant Hashtag 2]\n",
    "\"\"\"\n",
    "prompt = PromptTemplate.from_template(prompt_template)\n",
    "\n",
    " # Define LLM chain\n",
    "llm = ChatOpenAI(temperature=0, model_name=\"gpt-3.5-turbo-0125\")\n",
    "llm_chain = LLMChain(llm=llm, prompt=prompt)\n",
    "\n",
    "llm_chain.run(docs)"
   ]
  }
 ],
 "metadata": {
  "kernelspec": {
   "display_name": "Python 3",
   "language": "python",
   "name": "python3"
  },
  "language_info": {
   "codemirror_mode": {
    "name": "ipython",
    "version": 3
   },
   "file_extension": ".py",
   "mimetype": "text/x-python",
   "name": "python",
   "nbconvert_exporter": "python",
   "pygments_lexer": "ipython3",
   "version": "3.10.5"
  }
 },
 "nbformat": 4,
 "nbformat_minor": 2
}
