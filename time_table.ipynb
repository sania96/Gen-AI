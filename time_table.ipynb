{
 "cells": [
  {
   "cell_type": "markdown",
   "metadata": {},
   "source": [
    "## Student Time Table Generator "
   ]
  },
  {
   "cell_type": "markdown",
   "metadata": {},
   "source": [
    "### 1. Import Dependencies "
   ]
  },
  {
   "cell_type": "code",
   "execution_count": 5,
   "metadata": {},
   "outputs": [],
   "source": [
    "from langchain.agents.agent_types import AgentType\n",
    "from langchain_experimental.agents.agent_toolkits import create_csv_agent\n",
    "from langchain_openai import ChatOpenAI, OpenAI\n",
    "from langchain.document_loaders import CSVLoader\n",
    "from langchain.embeddings import OpenAIEmbeddings\n",
    "from langchain.vectorstores import Chroma\n",
    "from langchain.prompts import PromptTemplate\n",
    "from langchain.chains.llm import LLMChain\n"
   ]
  },
  {
   "cell_type": "markdown",
   "metadata": {},
   "source": [
    "### 2. Add OpenAI Api Token from .env file"
   ]
  },
  {
   "cell_type": "code",
   "execution_count": 6,
   "metadata": {},
   "outputs": [
    {
     "data": {
      "text/plain": [
       "True"
      ]
     },
     "execution_count": 6,
     "metadata": {},
     "output_type": "execute_result"
    }
   ],
   "source": [
    "import dotenv\n",
    "\n",
    "dotenv.load_dotenv()"
   ]
  },
  {
   "cell_type": "markdown",
   "metadata": {},
   "source": [
    "### 3. Load CSV file containing Students data"
   ]
  },
  {
   "cell_type": "code",
   "execution_count": 7,
   "metadata": {},
   "outputs": [],
   "source": [
    "\n",
    "loader = CSVLoader(\"Student_data.csv\", encoding=\"utf-8\")\n",
    "documents = loader.load()"
   ]
  },
  {
   "cell_type": "markdown",
   "metadata": {},
   "source": [
    "### 4. Prompt Writing and Text Generation"
   ]
  },
  {
   "cell_type": "code",
   "execution_count": 29,
   "metadata": {},
   "outputs": [
    {
     "name": "stdout",
     "output_type": "stream",
     "text": [
      "Student: Sania\n",
      "Field of Study: CS\n",
      "Year of Study: 2024\n",
      "Preferred Learning Style: Conceptual\n",
      "Personal Objectives: Learn coding\n",
      "Challenges: Difficulty in understanding\n",
      "Extracurricular Activities: Exercise\n",
      "\n",
      "Weekly Study Timetable for Sania:\n",
      "\n",
      "| Time       | Monday      | Tuesday     | Wednesday   | Thursday    | Friday      | Saturday    | Sunday      |\n",
      "|------------|-------------|-------------|-------------|-------------|-------------|-------------|-------------|\n",
      "| 2:00-3:00  | ICT         | ICT         | ICT         | ICT         | ICT         | ICT         | ICT         |\n",
      "| 3:00-4:00  | ICT         | ICT         | ICT         | ICT         | ICT         | ICT         | ICT         |\n",
      "| 4:00-5:00  | MAD         | MAD         | MAD         | MAD         | MAD         | MAD         | MAD         |\n",
      "| 5:00-6:00  | MAD         | MAD         | MAD         | MAD         | MAD         | MAD         | MAD         |\n",
      "| 6:00-7:00  | Exercise    | Exercise    | Exercise    | Exercise    | Exercise    | Exercise    | Exercise    |\n",
      "\n",
      "Student: Ahmad\n",
      "Field of Study: SE\n",
      "Year of Study: 2018\n",
      "Preferred Learning Style: Routine\n",
      "Personal Objectives: None\n",
      "Challenges: Learn science\n",
      "Extracurricular Activities: Eating\n",
      "\n",
      "Weekly Study Timetable for Ahmad:\n",
      "\n",
      "| Time       | Monday      | Tuesday     | Wednesday   | Thursday    | Friday      | Saturday    | Sunday      |\n",
      "|------------|-------------|-------------|-------------|-------------|-------------|-------------|-------------|\n",
      "| 2:00-3:00  | Stat        | Stat        | Stat        | Stat        | Stat        | Stat        | Stat        |\n",
      "| 3:00-4:00  | Stat        | Stat        | Stat        | Stat        | Stat        | Stat        | Stat        |\n",
      "| 4:00-5:00  | Algebra     | Algebra     | Algebra     | Algebra     | Algebra     | Algebra     | Algebra     |\n",
      "| 5:00-6:00  | Algebra     | Algebra     | Algebra     | Algebra     | Algebra     | Algebra     | Algebra     |\n",
      "| 6:00-7:00  | Science     | Science     | Science     | Science     | Science     | Science     | Science     |\n"
     ]
    }
   ],
   "source": [
    "#Define Prompt\n",
    "\n",
    "template = \"\"\"generate a personalized study timetable for a Number of students.\n",
    "\n",
    "Timetable Parameters, starting and ending time on first column, days on al the other columns, and in rows write the specific task against each time and day:\n",
    "• For every new student use an emoji to represent new student with name, a column for allocated time to each task also\n",
    "•   Days : [Include all days of week, plus add extra time on weekends, on weekends students have playing time too]\n",
    "•   Starting and ending Time: [write starting  and ending time for each task, for weekdays use afternoon and evening times like after 2pm]\n",
    "•   Task :[Task student have to perform during the mentioned time]\n",
    "\n",
    "Output Format:\n",
    "Please present the timetable in a clear and visually organized format. Consider the following:\n",
    "•   Use columns and a beautiful calendar layout to show timetable output\n",
    "•\tCalendar/Scheduler View: make A weekly or daily calendar layout.\n",
    "•\tColor-Coding: Color-code different subjects for easy identification.\n",
    "•\tDetailed Task Descriptions: Include specific study tasks within each time block (e.g., \"Math: Practice factoring equations\").\n",
    "Timetable Requirements:\n",
    "•\tPrioritize Subjects: Focus extra time on subjects where the student needs improvement. \n",
    "•\tIncorporate Learning Style: Include study techniques that align with the student's preferred learning style (e.g., videos for visual learners, discussions for auditory learners, hands-on activities for kinesthetic learners).\n",
    "•\tBalance with Extracurriculars: Ensure the timetable realistically accommodates extracurricular commitments. ( Make sure Student give more time to Study than Extracurricular) \n",
    "•\tSpecific Goals: Address the student's personal objectives/challenges within the timetable (e.g., dedicated SAT prep, time management practice).\n",
    " Here's the relevant information of each student:\n",
    "\"{documents}\"\n",
    "\n",
    "\n",
    "\n",
    "\"\"\"\n",
    "prompt = PromptTemplate.from_template(template)\n",
    "\n",
    "model = ChatOpenAI(temperature=0, model_name=\"gpt-3.5-turbo-0125\")\n",
    "\n",
    "chain =LLMChain(\n",
    "    \n",
    "    llm=model, prompt=prompt\n",
    ")\n",
    "output=chain.run(documents)\n",
    "print(output)\n"
   ]
  }
 ],
 "metadata": {
  "kernelspec": {
   "display_name": "Python 3",
   "language": "python",
   "name": "python3"
  },
  "language_info": {
   "codemirror_mode": {
    "name": "ipython",
    "version": 3
   },
   "file_extension": ".py",
   "mimetype": "text/x-python",
   "name": "python",
   "nbconvert_exporter": "python",
   "pygments_lexer": "ipython3",
   "version": "3.10.5"
  }
 },
 "nbformat": 4,
 "nbformat_minor": 2
}
