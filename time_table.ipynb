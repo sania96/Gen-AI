{
 "cells": [
  {
   "cell_type": "markdown",
   "metadata": {},
   "source": [
    "## Student Time Table Generator "
   ]
  },
  {
   "cell_type": "markdown",
   "metadata": {},
   "source": [
    "### 1. Import Dependencies "
   ]
  },
  {
   "cell_type": "code",
   "execution_count": 2,
   "metadata": {},
   "outputs": [],
   "source": [
    "from langchain.agents.agent_types import AgentType\n",
    "from langchain_experimental.agents.agent_toolkits import create_csv_agent\n",
    "from langchain_openai import ChatOpenAI, OpenAI\n",
    "from langchain.document_loaders import CSVLoader\n",
    "from langchain.embeddings import OpenAIEmbeddings\n",
    "from langchain.vectorstores import Chroma\n",
    "from langchain.prompts import PromptTemplate\n",
    "from langchain.chains.llm import LLMChain\n"
   ]
  },
  {
   "cell_type": "markdown",
   "metadata": {},
   "source": [
    "### 2. Add OpenAI Api Token from .env file"
   ]
  },
  {
   "cell_type": "code",
   "execution_count": 3,
   "metadata": {},
   "outputs": [
    {
     "data": {
      "text/plain": [
       "True"
      ]
     },
     "execution_count": 3,
     "metadata": {},
     "output_type": "execute_result"
    }
   ],
   "source": [
    "import dotenv\n",
    "\n",
    "dotenv.load_dotenv()"
   ]
  },
  {
   "cell_type": "markdown",
   "metadata": {},
   "source": [
    "### 3. Load CSV file containing Students data"
   ]
  },
  {
   "cell_type": "code",
   "execution_count": 4,
   "metadata": {},
   "outputs": [],
   "source": [
    "\n",
    "loader = CSVLoader(\"Student_data.csv\", encoding=\"utf-8\")\n",
    "documents = loader.load()"
   ]
  },
  {
   "cell_type": "markdown",
   "metadata": {},
   "source": [
    "### 4. Prompt Writing and Text Generation"
   ]
  },
  {
   "cell_type": "code",
   "execution_count": 41,
   "metadata": {},
   "outputs": [
    {
     "name": "stdout",
     "output_type": "stream",
     "text": [
      "Student: Sania 📚\n",
      "Days: Monday - Sunday\n",
      "\n",
      "| Time       | Monday      | Tuesday     | Wednesday   | Thursday    | Friday      | Saturday    | Sunday      |\n",
      "|------------|-------------|-------------|-------------|-------------|-------------|-------------|-------------|\n",
      "| 2pm-4pm    | ICT: Watch videos on coding concepts | ICT: Practice coding exercises | ICT: Review coding syntax | ICT: Solve coding problems | ICT: Study algorithms | ICT: Code debugging practice | ICT: Review previous week's work |\n",
      "| 4pm-6pm    | MATH: Watch videos on math concepts | MATH: Practice algebraic equations | MATH: Review geometry formulas | MATH: Solve calculus problems | MATH: Study trigonometry | MATH: Complete math exercises | MATH: Review previous week's work |\n",
      "| 6pm-7pm    | BREAK: Relax and recharge | BREAK: Relax and recharge | BREAK: Relax and recharge | BREAK: Relax and recharge | BREAK: Relax and recharge | BREAK: Relax and recharge | BREAK: Relax and recharge |\n",
      "| 7pm-9pm    | MAD: Watch videos on data structures | MAD: Practice data structure implementation | MAD: Review database concepts | MAD: Solve programming challenges | MAD: Study software design | MAD: Complete coding assignments | MAD: Review previous week's work |\n",
      "| 9pm-10pm   | Review the day's learnings | Review the day's learnings | Review the day's learnings | Review the day's learnings | Review the day's learnings | Review the day's learnings | Review the day's learnings |\n",
      "\n",
      "Student: Ahmad 📚\n",
      "Days: Monday - Sunday\n",
      "\n",
      "| Time       | Monday      | Tuesday     | Wednesday   | Thursday    | Friday      | Saturday    | Sunday      |\n",
      "|------------|-------------|-------------|-------------|-------------|-------------|-------------|-------------|\n",
      "| 2pm-4pm    | STAT: Read and summarize statistical concepts | STAT: Solve statistical problems | STAT: Review probability theories | STAT: Practice hypothesis testing | STAT: Study regression analysis | STAT: Complete statistical assignments | STAT: Review previous week's work |\n",
      "| 4pm-6pm    | ALGEBRA: Read and summarize algebraic concepts | ALGEBRA: Practice algebraic equations | ALGEBRA: Review algebraic formulas | ALGEBRA: Solve algebraic problems | ALGEBRA: Study linear algebra | ALGEBRA: Complete algebraic exercises | ALGEBRA: Review previous week's work |\n",
      "| 6pm-7pm    | BREAK: Relax and recharge | BREAK: Relax and recharge | BREAK: Relax and recharge | BREAK: Relax and recharge | BREAK: Relax and recharge | BREAK: Relax and recharge | BREAK: Relax and recharge |\n",
      "| 7pm-9pm    | SCIENCE: Read and summarize scientific theories | SCIENCE: Solve science problems | SCIENCE: Review scientific methods | SCIENCE: Practice experiments | SCIENCE: Study scientific principles | SCIENCE: Complete science assignments | SCIENCE: Review previous week's work |\n",
      "| 9pm-10pm   | Review the day's learnings | Review the day's learnings | Review the day's learnings | Review the day's learnings | Review the day's learnings | Review the day's learnings | Review the day's learnings |\n"
     ]
    }
   ],
   "source": [
    "#Define Prompt\n",
    "\n",
    "template = \"\"\"generate a personalized study timetable for a Number of students.\n",
    "\n",
    "Timetable Parameters, starting and ending time on first column, days on al the other columns, and in rows write the specific task against each time and day:\n",
    "• For every new student use  emoji to represent new student with name, a column for allocated time to each task also\n",
    "\n",
    "•   Days : [Include all days of week, plus add extra time on weekends, on weekends students have playing time too]\n",
    "•   Starting and ending Time: [write starting  and ending time for each task, for weekdays use afternoon and evening times like after 2pm]\n",
    "•   Task :[Task student have to perform during the mentioned time]\n",
    "\n",
    "Timetable Requirements(always make a detailed timetable in according to below requirements):\n",
    "•\tPrioritize Subjects: Focus extra time on subjects where the student needs improvement. \n",
    "•\tIncorporate Learning Style: Include study techniques that align with the student's preferred learning style (e.g., videos for visual learners, discussions for auditory learners, hands-on activities for kinesthetic learners).\n",
    "•\tBalance with Extracurriculars: Ensure the timetable realistically accommodates extracurricular commitments. ( Make sure Student give more time to Study than Extracurricular) \n",
    "•\tSpecific Goals: Address the student's personal objectives/challenges within the timetable (e.g., dedicated SAT prep, time management practice).\n",
    "Output Format:\n",
    "Please present the timetable in a clear and visually organized format. Consider the following:\n",
    "•   Use columns and a beautiful calendar layout to show timetable output\n",
    "•\tCalendar/Scheduler View: make A weekly or daily calendar layout.\n",
    "•\tColor-Coding: Color-code different subjects for easy identification.\n",
    "•\tDetailed Task Descriptions: Include specific study tasks within each time block (e.g., \"Math: Practice factoring equations\").\n",
    "\n",
    "\n",
    " Here's the relevant information of each student:\n",
    "\"{documents}\"\n",
    "\n",
    "\n",
    "\n",
    "\"\"\"\n",
    "prompt = PromptTemplate.from_template(template)\n",
    "\n",
    "model = ChatOpenAI(temperature=0.5, model_name=\"gpt-3.5-turbo-0125\")\n",
    "\n",
    "chain =LLMChain(\n",
    "    \n",
    "    llm=model, prompt=prompt\n",
    ")\n",
    "output=chain.run(documents)\n",
    "print(output)\n"
   ]
  }
 ],
 "metadata": {
  "kernelspec": {
   "display_name": "Python 3",
   "language": "python",
   "name": "python3"
  },
  "language_info": {
   "codemirror_mode": {
    "name": "ipython",
    "version": 3
   },
   "file_extension": ".py",
   "mimetype": "text/x-python",
   "name": "python",
   "nbconvert_exporter": "python",
   "pygments_lexer": "ipython3",
   "version": "3.10.5"
  }
 },
 "nbformat": 4,
 "nbformat_minor": 2
}
