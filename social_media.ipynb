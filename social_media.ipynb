{
 "cells": [
  {
   "cell_type": "markdown",
   "metadata": {},
   "source": [
    "## Social Media Post Writing"
   ]
  },
  {
   "cell_type": "markdown",
   "metadata": {},
   "source": [
    "### 1. Install Dependencies"
   ]
  },
  {
   "cell_type": "code",
   "execution_count": 2,
   "metadata": {},
   "outputs": [
    {
     "name": "stdout",
     "output_type": "stream",
     "text": [
      "Note: you may need to restart the kernel to use updated packages.\n"
     ]
    }
   ],
   "source": [
    "%pip install --upgrade --quiet  langchain-openai  docx2txt  langchain"
   ]
  },
  {
   "cell_type": "markdown",
   "metadata": {},
   "source": [
    "### 2. Import Dependencies "
   ]
  },
  {
   "cell_type": "code",
   "execution_count": 1,
   "metadata": {},
   "outputs": [],
   "source": [
    "from langchain.chains.combine_documents.stuff import StuffDocumentsChain\n",
    "from langchain_community.document_loaders import Docx2txtLoader\n",
    "from langchain.prompts import PromptTemplate\n",
    "from langchain_openai import ChatOpenAI\n",
    "from langchain.chains.llm import LLMChain\n"
   ]
  },
  {
   "cell_type": "markdown",
   "metadata": {},
   "source": [
    "### 3. Add OpenAI Api Token from .env file"
   ]
  },
  {
   "cell_type": "code",
   "execution_count": 2,
   "metadata": {},
   "outputs": [
    {
     "data": {
      "text/plain": [
       "True"
      ]
     },
     "execution_count": 2,
     "metadata": {},
     "output_type": "execute_result"
    }
   ],
   "source": [
    "import dotenv\n",
    "\n",
    "dotenv.load_dotenv()"
   ]
  },
  {
   "cell_type": "markdown",
   "metadata": {},
   "source": [
    "### 4. Load Word Document containing Question/Answer data"
   ]
  },
  {
   "cell_type": "code",
   "execution_count": 3,
   "metadata": {},
   "outputs": [],
   "source": [
    "loader = Docx2txtLoader(\"qa.docx\")\n",
    "docs = loader.load()"
   ]
  },
  {
   "cell_type": "markdown",
   "metadata": {},
   "source": [
    "### 5. Prompt Writing and Text Generation"
   ]
  },
  {
   "cell_type": "code",
   "execution_count": 8,
   "metadata": {},
   "outputs": [
    {
     "name": "stdout",
     "output_type": "stream",
     "text": [
      "Did you know...? 75% of classroom-style training is forgotten if it's not implemented within 6 days after.\n",
      "\n",
      "🌟 Learn how Sodexo successfully addressed the need for scalable leadership development programs through their partnership with CoachHub.\n",
      "\n",
      "🚀 Implementation of scalable coaching programs powered by AI and analytics\n",
      "📈 Improved knowledge retention and enhanced leadership skills\n",
      "💼 Increased employee engagement across the APMEA region\n",
      "\n",
      "Join thousands of coachees like Sodexo's Head of FMCG Accounts, Jean Baptiste CALEMARD, on a journey of growth and transformation to explore the greater you. #ExploreTheGreaterYou\n",
      "\n",
      "Find out more here: [https://bit.ly/3LMxIHg]\n"
     ]
    }
   ],
   "source": [
    "# Define prompt\n",
    "prompt_template = \"\"\"you have to write a social media post of \n",
    "\"{docs}\"\n",
    "Format:•\tDid you know...? [Insert relevant statistic from the questionnaire answers or related industry data]\n",
    "[Highlight the company/organization involved in the success story:]\n",
    "•\tLearn how [Company Name] successfully addressed [the challenge faced] through their partnership with [Partner Organization].\n",
    "[List the key outcomes or benefits achieved: but do not add this heading, compulsory use relavant emojis instead of bullets for each outcome]\n",
    "•\t[Outcome/Benefit 1]\n",
    "•\t[Outcome/Benefit 2]\n",
    "•\t[Outcome/Benefit 3]\n",
    "•\t[Outcome/Benefit 4]\n",
    "•\t[Add more benefits as needed, based on questionnaire answers]\n",
    "Include any impactful data, quotes, or testimonials:\n",
    "End with a strong call-to-action and relevant hashtags:\n",
    "•\t[Insert Call-to-action related to the specific case study]\n",
    "•\t#[Relevant Hashtag 1] #[Relevant Hashtag 2] [Add more Hashtags as needed, based on questionnaire answers,show the links in link formats]\n",
    "\"\"\"\n",
    "prompt = PromptTemplate.from_template(prompt_template)\n",
    "\n",
    " # Define LLM chain\n",
    "llm = ChatOpenAI(temperature=0, model_name=\"gpt-3.5-turbo-0125\")\n",
    "llm_chain = LLMChain(llm=llm, prompt=prompt)\n",
    "\n",
    "output=llm_chain.run(docs)\n",
    "print(output)"
   ]
  }
 ],
 "metadata": {
  "kernelspec": {
   "display_name": "Python 3",
   "language": "python",
   "name": "python3"
  },
  "language_info": {
   "codemirror_mode": {
    "name": "ipython",
    "version": 3
   },
   "file_extension": ".py",
   "mimetype": "text/x-python",
   "name": "python",
   "nbconvert_exporter": "python",
   "pygments_lexer": "ipython3",
   "version": "3.10.5"
  }
 },
 "nbformat": 4,
 "nbformat_minor": 2
}
